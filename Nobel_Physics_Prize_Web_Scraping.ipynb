{
 "cells": [
  {
   "cell_type": "code",
   "execution_count": null,
   "metadata": {},
   "outputs": [],
   "source": [
    "import pandas as pd\n",
    "\n",
    "# Webpage url                                                                                                               \n",
    "url = 'https://en.wikipedia.org/wiki/List_of_Nobel_laureates_in_Physics'\n",
    "\n",
    "# Extract tables\n",
    "dfs = pd.read_html(url)\n",
    "\n",
    "# Get first table                                                                                                           \n",
    "df = dfs[0]\n",
    "\n",
    "df2 = df[['Year','Laureate[A]']]\n",
    "# print(df2)\n",
    "\n",
    "df3 = df[['Laureate[A]']]\n",
    "# print(df3)\n",
    "\n",
    "laureate=df3.to_dict('dict')\n",
    "# print(laureate)\n",
    "\n",
    "for x in laureate:\n",
    "    laureate_2=laureate[x]\n",
    "    \n",
    "lau=[]   \n",
    "for x in laureate_2:\n",
    "    name=laureate_2[x]\n",
    "    lau.append(name)\n",
    "\n",
    "about=[]\n",
    "import wikipedia\n",
    "for x in lau:\n",
    "    try:\n",
    "        result = wikipedia.summary(x, sentences = 2)\n",
    "        about.append(result)\n",
    "        \n",
    "    except Exception:\n",
    "        pass\n",
    "    \n",
    "from pandas import DataFrame\n",
    "df4 = DataFrame (about,columns=['description'])\n",
    "# print (df4)\n",
    "\n",
    "horizontal_stack = pd.concat([df2, df4], axis=1)\n",
    "horizontal_stack\n",
    "\n",
    "horizontal_stack.to_csv (r'C:\\Users\\ankit\\OneDrive\\Desktop\\nobel_laureate.csv', index = False, header=True)\n"
   ]
  },
  {
   "cell_type": "code",
   "execution_count": null,
   "metadata": {},
   "outputs": [],
   "source": []
  }
 ],
 "metadata": {
  "kernelspec": {
   "display_name": "Python 3",
   "language": "python",
   "name": "python3"
  },
  "language_info": {
   "codemirror_mode": {
    "name": "ipython",
    "version": 3
   },
   "file_extension": ".py",
   "mimetype": "text/x-python",
   "name": "python",
   "nbconvert_exporter": "python",
   "pygments_lexer": "ipython3",
   "version": "3.7.7"
  }
 },
 "nbformat": 4,
 "nbformat_minor": 4
}
